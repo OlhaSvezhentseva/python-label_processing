{
  "cells": [
    {
      "cell_type": "markdown",
      "metadata": {
        "id": "o5m6Evfp_xHd"
      },
      "source": [
        "# TensorFlow Rotator Tutorial"
      ]
    },
    {
      "cell_type": "markdown",
      "metadata": {
        "id": "CesC_qlr_1Jz"
      },
      "source": [
        "The TensorFlow Sequential Classifier is a machine learning model implemented using the Sequential API in TensorFlow, built with the Keras neural networks API. It is designed for the task of classification, which involves assigning predefined labels or categories to input data."
      ]
    },
    {
      "cell_type": "markdown",
      "metadata": {
        "id": "4zG0IVusBq5t"
      },
      "source": [
        "# Import Librairies"
      ]
    },
    {
      "cell_type": "code",
      "execution_count": null,
      "metadata": {
        "id": "arCSwAssSXwm"
      },
      "outputs": [],
      "source": [
        "# Third-Party Librairies\n",
        "import os\n",
        "from glob import glob\n",
        "import numpy as np\n",
        "import cv2\n",
        "import matplotlib.pyplot as plt\n",
        "import seaborn as sns\n",
        "\n",
        "# sklearn\n",
        "from sklearn.model_selection import train_test_split\n",
        "from sklearn.metrics import confusion_matrix\n",
        "\n",
        "# TensorFlow\n",
        "from keras.utils import to_categorical\n",
        "from keras.models import Sequential\n",
        "from keras.layers import Flatten, Dense, Dropout\n",
        "from keras.optimizers import Adam\n",
        "from keras.preprocessing.image import ImageDataGenerator\n",
        "from keras.callbacks import EarlyStopping, LearningRateScheduler\n",
        "from keras.applications import ResNet50\n",
        "from tensorflow.keras.layers import BatchNormalization\n",
        "from keras.regularizers import l2\n",
        "\n",
        "# Google Colab - if want to train your model in Google Colab using the Google GPU\n",
        "from google.colab import drive"
      ]
    },
    {
      "cell_type": "markdown",
      "metadata": {
        "id": "UT7IhkJlaFMI"
      },
      "source": [
        "# Mount Drive"
      ]
    },
    {
      "cell_type": "code",
      "execution_count": null,
      "metadata": {
        "colab": {
          "base_uri": "https://localhost:8080/"
        },
        "id": "B4Wr-VkESlJP",
        "outputId": "7e7105fe-2a32-492a-90d8-9513cd4f404e"
      },
      "outputs": [],
      "source": [
        "drive.mount('/content/drive')\n",
        "\n",
        "os.chdir('Path to your training data repository')"
      ]
    },
    {
      "cell_type": "markdown",
      "metadata": {
        "id": "vXer5TsWaLYx"
      },
      "source": [
        "# Load Images"
      ]
    },
    {
      "cell_type": "code",
      "execution_count": null,
      "metadata": {
        "id": "gpC3NhmYSu6_"
      },
      "outputs": [],
      "source": [
        "# Define constants\n",
        "DATA_DIR = 'Path to the pictures repository'\n",
        "IMAGE_SIZE = (224, 224)\n",
        "NUM_CLASSES = 4  # Your number of classes\n",
        "BATCH_SIZE = 32"
      ]
    },
    {
      "cell_type": "code",
      "execution_count": null,
      "metadata": {
        "colab": {
          "base_uri": "https://localhost:8080/"
        },
        "id": "A5aqorW1SwsT",
        "outputId": "8221f0d2-c4fd-4378-8fb2-45aa0a8a8d34"
      },
      "outputs": [],
      "source": [
        "def load_images_and_labels(data_dir):\n",
        "    images = []\n",
        "    labels = []\n",
        "    num_images_per_class = {}\n",
        "\n",
        "    class_mapping = {'0': 0, '90': 1, '180': 2, '270': 3}  # Mapping of your classes\n",
        "\n",
        "    for class_folder in glob(os.path.join(data_dir, '*')):\n",
        "        class_label = os.path.basename(class_folder)\n",
        "        if class_label not in class_mapping:\n",
        "            continue\n",
        "        class_label = class_mapping[class_label]\n",
        "\n",
        "        # Count the number of images in each class folder\n",
        "        num_images = len(glob(os.path.join(class_folder, '*.jpg')))\n",
        "        num_images_per_class[class_label] = num_images\n",
        "\n",
        "        for img_path in glob(os.path.join(class_folder, '*.jpg')):\n",
        "            image = cv2.imread(img_path)\n",
        "            image = cv2.resize(image, IMAGE_SIZE)\n",
        "            images.append(image)\n",
        "            labels.append(class_label)\n",
        "\n",
        "    return np.array(images), np.array(labels), num_images_per_class\n",
        "\n",
        "images, labels, num_images_per_class = load_images_and_labels(DATA_DIR)\n",
        "\n",
        "# Output the number of images in each class folder\n",
        "for class_label, num_images in num_images_per_class.items():\n",
        "    print(f\"Class {class_label}: {num_images} images\")"
      ]
    },
    {
      "cell_type": "markdown",
      "metadata": {
        "id": "fFnA3IHRaOti"
      },
      "source": [
        "# Prepare Training"
      ]
    },
    {
      "cell_type": "code",
      "execution_count": null,
      "metadata": {
        "id": "ZEFHsDBqSwyh"
      },
      "outputs": [],
      "source": [
        "# Split the data into training and validation sets\n",
        "X_train, X_val, y_train, y_val = train_test_split(images, labels, test_size=0.2, random_state=42)"
      ]
    },
    {
      "cell_type": "code",
      "execution_count": null,
      "metadata": {
        "id": "DaMKHbmgSw1I"
      },
      "outputs": [],
      "source": [
        "# Convert labels to one-hot encoded format\n",
        "y_train = to_categorical(y_train, NUM_CLASSES)\n",
        "y_val = to_categorical(y_val, NUM_CLASSES)"
      ]
    },
    {
      "cell_type": "code",
      "execution_count": null,
      "metadata": {
        "colab": {
          "base_uri": "https://localhost:8080/"
        },
        "id": "-0axSGLYSw3v",
        "outputId": "3d1bb90f-c794-43c3-cfba-ea0e7c9faba9"
      },
      "outputs": [],
      "source": [
        "# Load pre-trained model - if needed\n",
        "base_model = ResNet50(weights='imagenet', include_top=False, input_shape=(IMAGE_SIZE[0], IMAGE_SIZE[1], 3))\n",
        "\n",
        "# Freeze the convolutional base\n",
        "for layer in base_model.layers:\n",
        "    layer.trainable = False"
      ]
    },
    {
      "cell_type": "code",
      "execution_count": null,
      "metadata": {
        "id": "j66d16jOS5YN"
      },
      "outputs": [],
      "source": [
        "# Model definition\n",
        "model = Sequential([\n",
        "    base_model,\n",
        "    Flatten(),\n",
        "    Dense(512, activation='relu', kernel_regularizer=l2(0.001)),\n",
        "    BatchNormalization(),\n",
        "    Dropout(0.5),\n",
        "    Dense(NUM_CLASSES, activation='softmax')\n",
        "])"
      ]
    },
    {
      "cell_type": "code",
      "execution_count": null,
      "metadata": {
        "colab": {
          "base_uri": "https://localhost:8080/"
        },
        "id": "PnjeHxuES5aw",
        "outputId": "d5cffe0d-5978-419a-947a-52bd5de16a2f"
      },
      "outputs": [],
      "source": [
        "# Compile the model\n",
        "model.compile(optimizer=Adam(learning_rate=0.0001),\n",
        "              loss='categorical_crossentropy',\n",
        "              metrics=['accuracy'])\n",
        "\n",
        "# Print model summary\n",
        "model.summary()"
      ]
    },
    {
      "cell_type": "code",
      "execution_count": null,
      "metadata": {
        "id": "kzUTvhFQS_DG"
      },
      "outputs": [],
      "source": [
        "# Data augmentation\n",
        "train_datagen = ImageDataGenerator(\n",
        "    rotation_range=20,\n",
        "    width_shift_range=0.2,\n",
        "    height_shift_range=0.2,\n",
        "    shear_range=0.2,\n",
        "    zoom_range=0.2,\n",
        "    horizontal_flip=True,\n",
        "    fill_mode='nearest',\n",
        "    brightness_range=[0.5, 1.5]\n",
        ")"
      ]
    },
    {
      "cell_type": "code",
      "execution_count": null,
      "metadata": {
        "id": "z81LJMh7S_Fs"
      },
      "outputs": [],
      "source": [
        "# Fit the augmentation method to your data\n",
        "train_datagen.fit(X_train)"
      ]
    },
    {
      "cell_type": "code",
      "execution_count": null,
      "metadata": {
        "id": "mv_pT_VcTaS6"
      },
      "outputs": [],
      "source": [
        "# Define learning rate schedule\n",
        "def lr_schedule(epoch):\n",
        "    lr = 0.0001\n",
        "    if epoch > 30:\n",
        "        lr *= 0.1\n",
        "    elif epoch > 20:\n",
        "        lr *= 0.5\n",
        "    return lr\n",
        "\n",
        "# Learning rate scheduler\n",
        "lr_scheduler = LearningRateScheduler(lr_schedule)\n",
        "\n",
        "# Early stopping\n",
        "early_stopping = EarlyStopping(monitor='val_loss', patience=10, restore_best_weights=True)"
      ]
    },
    {
      "cell_type": "markdown",
      "metadata": {
        "id": "BLOOoTxmaUKf"
      },
      "source": [
        "# Train"
      ]
    },
    {
      "cell_type": "code",
      "execution_count": null,
      "metadata": {
        "colab": {
          "base_uri": "https://localhost:8080/"
        },
        "id": "DqpJ_-DGS5dX",
        "outputId": "d7e1204f-c8f4-4ae3-fd9e-014cdb079f35"
      },
      "outputs": [],
      "source": [
        "# Train the model with callbacks\n",
        "history = model.fit(train_datagen.flow(X_train, y_train, batch_size=BATCH_SIZE),\n",
        "                    steps_per_epoch=len(X_train) / BATCH_SIZE,\n",
        "                    epochs=100,\n",
        "                    validation_data=(X_val, y_val),\n",
        "                    callbacks=[lr_scheduler, early_stopping])"
      ]
    },
    {
      "cell_type": "markdown",
      "metadata": {
        "id": "iUzK9fhpa1ZS"
      },
      "source": [
        "# Visualise Training"
      ]
    },
    {
      "cell_type": "code",
      "execution_count": null,
      "metadata": {
        "colab": {
          "base_uri": "https://localhost:8080/",
          "height": 607
        },
        "id": "5ofnuQw7THyR",
        "outputId": "e64ef2a5-46d2-4948-af87-f7fb7e5eeccd"
      },
      "outputs": [],
      "source": [
        "# Visualize training results\n",
        "plt.figure(figsize=(12, 6))\n",
        "\n",
        "# Plot training & validation accuracy values\n",
        "plt.subplot(1, 2, 1)\n",
        "plt.plot(history.history['accuracy'], label='Training Accuracy')\n",
        "plt.plot(history.history['val_accuracy'], label='Validation Accuracy')\n",
        "plt.title('Model Accuracy')\n",
        "plt.xlabel('Epoch')\n",
        "plt.ylabel('Accuracy')\n",
        "plt.legend()\n",
        "\n",
        "# Plot training & validation loss values\n",
        "plt.subplot(1, 2, 2)\n",
        "plt.plot(history.history['loss'], label='Training Loss')\n",
        "plt.plot(history.history['val_loss'], label='Validation Loss')\n",
        "plt.title('Model Loss')\n",
        "plt.xlabel('Epoch')\n",
        "plt.ylabel('Loss')\n",
        "plt.legend()\n",
        "\n",
        "plt.tight_layout()\n",
        "plt.show()"
      ]
    },
    {
      "cell_type": "markdown",
      "metadata": {
        "id": "cx4FTrwua_JA"
      },
      "source": [
        "# Visualise Accuracy during training"
      ]
    },
    {
      "cell_type": "code",
      "execution_count": null,
      "metadata": {
        "colab": {
          "base_uri": "https://localhost:8080/",
          "height": 1000
        },
        "id": "wcJDPwVDc6J1",
        "outputId": "1f9b8f29-4c65-4fde-aeaf-72f6e8cae38e"
      },
      "outputs": [],
      "source": [
        "# Plot learning rate changes\n",
        "learning_rate = history.history['lr']\n",
        "plt.plot(learning_rate)\n",
        "plt.title('Learning Rate')\n",
        "plt.xlabel('Epoch')\n",
        "plt.ylabel('Learning Rate')\n",
        "plt.show()\n",
        "\n",
        "# Get predictions for the validation set\n",
        "y_pred = model.predict(X_val)\n",
        "y_pred_classes = np.argmax(y_pred, axis=1)\n",
        "\n",
        "# Convert one-hot encoded labels to categorical labels\n",
        "y_true_classes = np.argmax(y_val, axis=1)\n",
        "\n",
        "# Compute confusion matrix\n",
        "conf_matrix = confusion_matrix(y_true_classes, y_pred_classes)\n",
        "\n",
        "class_labels = ['0', '90', '180', '270']\n",
        "\n",
        "# Plot confusion matrix\n",
        "plt.figure(figsize=(8, 6))\n",
        "sns.heatmap(conf_matrix, annot=True, fmt='d', cmap='Blues', xticklabels=class_labels, yticklabels=class_labels)\n",
        "plt.xlabel('Predicted labels')\n",
        "plt.ylabel('True labels')\n",
        "plt.title('Confusion Matrix')\n",
        "plt.show()\n",
        "\n",
        "# Plot misclassified images\n",
        "misclassified_idx = np.where(y_pred_classes != y_true_classes)[0]\n",
        "plt.figure(figsize=(10, 10))\n",
        "for i, idx in enumerate(misclassified_idx[:25]):\n",
        "    plt.subplot(5, 5, i + 1)\n",
        "    plt.imshow(X_val[idx])\n",
        "    plt.title(f'True: {class_labels[y_true_classes[idx]]}\\nPredicted: {class_labels[y_pred_classes[idx]]}')\n",
        "    plt.axis('off')\n",
        "plt.tight_layout()\n",
        "plt.show()\n"
      ]
    },
    {
      "cell_type": "markdown",
      "metadata": {
        "id": "bh_tIqdGbJzA"
      },
      "source": [
        "# Save Model"
      ]
    },
    {
      "cell_type": "code",
      "execution_count": null,
      "metadata": {
        "colab": {
          "base_uri": "https://localhost:8080/"
        },
        "id": "4lLs1F4vTH5j",
        "outputId": "d821c8e5-f2bf-4fd7-fde5-5e81620b8330"
      },
      "outputs": [],
      "source": [
        "# Save the trained model as an HDF5 file\n",
        "model.save('rotation_model.h5')\n",
        "print(\"Trained model saved successfully as rotation_model.h5.\")"
      ]
    }
  ],
  "metadata": {
    "accelerator": "GPU",
    "colab": {
      "gpuType": "T4",
      "machine_shape": "hm",
      "provenance": [],
      "toc_visible": true
    },
    "kernelspec": {
      "display_name": "Python 3",
      "name": "python3"
    },
    "language_info": {
      "name": "python"
    }
  },
  "nbformat": 4,
  "nbformat_minor": 0
}
